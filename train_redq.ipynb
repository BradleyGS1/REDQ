{
 "cells": [
  {
   "cell_type": "markdown",
   "metadata": {},
   "source": [
    "### Import Dependencies"
   ]
  },
  {
   "cell_type": "code",
   "execution_count": 1,
   "metadata": {},
   "outputs": [],
   "source": [
    "import gymnasium as gym\n",
    "\n",
    "from agent_redq import AgentREDQ"
   ]
  },
  {
   "cell_type": "markdown",
   "metadata": {},
   "source": [
    "### Train REDQ Agent"
   ]
  },
  {
   "cell_type": "code",
   "execution_count": 4,
   "metadata": {},
   "outputs": [
    {
     "name": "stderr",
     "output_type": "stream",
     "text": [
      "c:\\Users\\Bradley\\.conda\\envs\\tf\\lib\\site-packages\\keras\\initializers\\initializers_v2.py:120: UserWarning: The initializer GlorotUniform is unseeded and being called multiple times, which will return identical values  each time (even if the initializer is unseeded). Please update your code to provide a seed to the initializer, or avoid using the same initalizer instance more than once.\n",
      "  warnings.warn(\n"
     ]
    },
    {
     "name": "stdout",
     "output_type": "stream",
     "text": [
      "Setup Phase  -  Filling Replay Buffer\n"
     ]
    },
    {
     "name": "stderr",
     "output_type": "stream",
     "text": [
      "100%|██████████| 4000/4000 [00:05<00:00, 675.18it/s]\n"
     ]
    },
    {
     "name": "stdout",
     "output_type": "stream",
     "text": [
      "\n",
      "Training Phase  -  Training Model 2023-10-09-1303\n"
     ]
    },
    {
     "name": "stderr",
     "output_type": "stream",
     "text": [
      "Epoch 1/20: 100%|██████████| 2000/2000 [27:45<00:00,  1.20it/s, critic_loss=0.815, policy_loss=-40.455]\n"
     ]
    },
    {
     "name": "stdout",
     "output_type": "stream",
     "text": [
      "mean_return=565.0499267578125  -  improved from 0.0  -  agent saved to logging/2023-10-09-1303\n",
      "\n"
     ]
    },
    {
     "name": "stderr",
     "output_type": "stream",
     "text": [
      "Epoch 2/20: 100%|██████████| 2000/2000 [30:06<00:00,  1.11it/s, critic_loss=0.572, policy_loss=-36.551]\n"
     ]
    },
    {
     "name": "stdout",
     "output_type": "stream",
     "text": [
      "mean_return=516.8363647460938  -  no improvement\n",
      "\n"
     ]
    },
    {
     "name": "stderr",
     "output_type": "stream",
     "text": [
      "Epoch 3/20: 100%|██████████| 2000/2000 [30:07<00:00,  1.11it/s, critic_loss=0.668, policy_loss=-36.504]\n"
     ]
    },
    {
     "name": "stdout",
     "output_type": "stream",
     "text": [
      "mean_return=468.4118957519531  -  no improvement\n",
      "\n"
     ]
    },
    {
     "name": "stderr",
     "output_type": "stream",
     "text": [
      "Epoch 4/20: 100%|██████████| 2000/2000 [30:02<00:00,  1.11it/s, critic_loss=0.425, policy_loss=-39.619]\n"
     ]
    },
    {
     "name": "stdout",
     "output_type": "stream",
     "text": [
      "mean_return=463.3895263671875  -  no improvement\n",
      "\n"
     ]
    },
    {
     "name": "stderr",
     "output_type": "stream",
     "text": [
      "Epoch 5/20: 100%|██████████| 2000/2000 [27:23<00:00,  1.22it/s, critic_loss=0.481, policy_loss=-39.780]\n"
     ]
    },
    {
     "name": "stdout",
     "output_type": "stream",
     "text": [
      "mean_return=193.01034545898438  -  no improvement\n",
      "\n"
     ]
    },
    {
     "name": "stderr",
     "output_type": "stream",
     "text": [
      "Epoch 6/20: 100%|██████████| 2000/2000 [28:06<00:00,  1.19it/s, critic_loss=0.560, policy_loss=-42.535]\n"
     ]
    },
    {
     "name": "stdout",
     "output_type": "stream",
     "text": [
      "mean_return=222.73333740234375  -  no improvement\n",
      "\n"
     ]
    },
    {
     "name": "stderr",
     "output_type": "stream",
     "text": [
      "Epoch 7/20: 100%|██████████| 2000/2000 [28:31<00:00,  1.17it/s, critic_loss=0.570, policy_loss=-42.961]\n"
     ]
    },
    {
     "name": "stdout",
     "output_type": "stream",
     "text": [
      "mean_return=480.4754638671875  -  no improvement\n",
      "\n"
     ]
    },
    {
     "name": "stderr",
     "output_type": "stream",
     "text": [
      "Epoch 8/20: 100%|██████████| 2000/2000 [27:58<00:00,  1.19it/s, critic_loss=0.431, policy_loss=-45.406]\n"
     ]
    },
    {
     "name": "stdout",
     "output_type": "stream",
     "text": [
      "mean_return=456.3843994140625  -  no improvement\n",
      "\n"
     ]
    },
    {
     "name": "stderr",
     "output_type": "stream",
     "text": [
      "Epoch 9/20: 100%|██████████| 2000/2000 [28:08<00:00,  1.18it/s, critic_loss=0.356, policy_loss=-46.862]\n"
     ]
    },
    {
     "name": "stdout",
     "output_type": "stream",
     "text": [
      "mean_return=402.93780517578125  -  no improvement\n",
      "\n"
     ]
    },
    {
     "name": "stderr",
     "output_type": "stream",
     "text": [
      "Epoch 10/20: 100%|██████████| 2000/2000 [28:45<00:00,  1.16it/s, critic_loss=0.386, policy_loss=-48.852]\n"
     ]
    },
    {
     "name": "stdout",
     "output_type": "stream",
     "text": [
      "mean_return=434.5142822265625  -  no improvement\n",
      "\n"
     ]
    },
    {
     "name": "stderr",
     "output_type": "stream",
     "text": [
      "Epoch 11/20: 100%|██████████| 2000/2000 [30:38<00:00,  1.09it/s, critic_loss=0.437, policy_loss=-49.655]\n"
     ]
    },
    {
     "name": "stdout",
     "output_type": "stream",
     "text": [
      "mean_return=528.4765014648438  -  no improvement\n",
      "\n"
     ]
    },
    {
     "name": "stderr",
     "output_type": "stream",
     "text": [
      "Epoch 12/20: 100%|██████████| 2000/2000 [31:56<00:00,  1.04it/s, critic_loss=0.378, policy_loss=-51.295]\n"
     ]
    },
    {
     "name": "stdout",
     "output_type": "stream",
     "text": [
      "mean_return=601.1666259765625  -  improved from 565.0499267578125  -  agent saved to logging/2023-10-09-1303\n",
      "\n"
     ]
    },
    {
     "name": "stderr",
     "output_type": "stream",
     "text": [
      "Epoch 13/20: 100%|██████████| 2000/2000 [30:30<00:00,  1.09it/s, critic_loss=0.387, policy_loss=-52.995]\n"
     ]
    },
    {
     "name": "stdout",
     "output_type": "stream",
     "text": [
      "mean_return=683.2363891601562  -  improved from 601.1666259765625  -  agent saved to logging/2023-10-09-1303\n",
      "\n"
     ]
    },
    {
     "name": "stderr",
     "output_type": "stream",
     "text": [
      "Epoch 14/20: 100%|██████████| 2000/2000 [30:15<00:00,  1.10it/s, critic_loss=0.288, policy_loss=-54.565]\n"
     ]
    },
    {
     "name": "stdout",
     "output_type": "stream",
     "text": [
      "mean_return=575.521484375  -  no improvement\n",
      "\n"
     ]
    },
    {
     "name": "stderr",
     "output_type": "stream",
     "text": [
      "Epoch 15/20: 100%|██████████| 2000/2000 [31:08<00:00,  1.07it/s, critic_loss=0.362, policy_loss=-56.663]\n"
     ]
    },
    {
     "name": "stdout",
     "output_type": "stream",
     "text": [
      "mean_return=559.5804443359375  -  no improvement\n",
      "\n"
     ]
    },
    {
     "name": "stderr",
     "output_type": "stream",
     "text": [
      "Epoch 16/20: 100%|██████████| 2000/2000 [31:01<00:00,  1.07it/s, critic_loss=0.250, policy_loss=-56.743]\n"
     ]
    },
    {
     "name": "stdout",
     "output_type": "stream",
     "text": [
      "mean_return=592.6771240234375  -  no improvement\n",
      "\n"
     ]
    },
    {
     "name": "stderr",
     "output_type": "stream",
     "text": [
      "Epoch 17/20: 100%|██████████| 2000/2000 [30:35<00:00,  1.09it/s, critic_loss=0.379, policy_loss=-58.014]\n"
     ]
    },
    {
     "name": "stdout",
     "output_type": "stream",
     "text": [
      "mean_return=565.4329833984375  -  no improvement\n",
      "\n"
     ]
    },
    {
     "name": "stderr",
     "output_type": "stream",
     "text": [
      "Epoch 18/20:   8%|▊         | 158/2000 [02:29<29:21,  1.05it/s, critic_loss=0.524, policy_loss=-57.678]"
     ]
    }
   ],
   "source": [
    "env = gym.make(\"Ant-v4\", max_episode_steps=1000, healthy_z_range=(0.3, 0.9))\n",
    "\n",
    "redq_agent = (AgentREDQ()\n",
    ").networks(\n",
    "    state_dim=27, \n",
    "    action_dim=8\n",
    ").environment(\n",
    "    env\n",
    ").buffer(\n",
    "    buffer_type=\"prioritised\", \n",
    "    replay_size=10 ** 5, \n",
    "    prioritised_replay_size=10 ** 3\n",
    ")\n",
    "\n",
    "redq_agent.train(steps_per_epoch=2000, epochs=20, start_steps=0, train_steps_per_env_step=10, learning_rate=3e-4, reward_scale=1e-2, entropy_reg=0.2) "
   ]
  }
 ],
 "metadata": {
  "kernelspec": {
   "display_name": "tf",
   "language": "python",
   "name": "python3"
  },
  "language_info": {
   "codemirror_mode": {
    "name": "ipython",
    "version": 3
   },
   "file_extension": ".py",
   "mimetype": "text/x-python",
   "name": "python",
   "nbconvert_exporter": "python",
   "pygments_lexer": "ipython3",
   "version": "3.9.17"
  },
  "orig_nbformat": 4
 },
 "nbformat": 4,
 "nbformat_minor": 2
}

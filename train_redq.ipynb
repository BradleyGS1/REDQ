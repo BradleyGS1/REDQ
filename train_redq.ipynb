{
 "cells": [
  {
   "cell_type": "markdown",
   "metadata": {},
   "source": [
    "### Import Dependencies"
   ]
  },
  {
   "cell_type": "code",
   "execution_count": null,
   "metadata": {},
   "outputs": [],
   "source": [
    "import gymnasium as gym\n",
    "from keras.models import Model\n",
    "from keras.layers import Input, Dense, Concatenate\n",
    "\n",
    "from agent_redq import AgentREDQ"
   ]
  },
  {
   "cell_type": "markdown",
   "metadata": {},
   "source": [
    "### Create Policy Network"
   ]
  },
  {
   "cell_type": "code",
   "execution_count": null,
   "metadata": {},
   "outputs": [],
   "source": [
    "state_input = Input(shape=(27))\n",
    "\n",
    "hidden_units = 128\n",
    "\n",
    "x = Dense(units=hidden_units, activation=\"relu\")(state_input)\n",
    "x = Dense(units=hidden_units, activation=\"relu\")(x)\n",
    "\n",
    "means = Dense(units=8)(x)\n",
    "stddevs = Dense(units=8, activation=\"softplus\")(x)\n",
    "\n",
    "policy_network = Model(inputs=[state_input], outputs=[means, stddevs])"
   ]
  },
  {
   "cell_type": "markdown",
   "metadata": {},
   "source": [
    "### Create Critic Network"
   ]
  },
  {
   "cell_type": "code",
   "execution_count": null,
   "metadata": {},
   "outputs": [],
   "source": [
    "state_input = Input(shape=(27))\n",
    "action_input = Input(shape=(8))\n",
    "\n",
    "input = Concatenate()([state_input, action_input])\n",
    "\n",
    "hidden_units = 128\n",
    "\n",
    "x = Dense(units=hidden_units, activation=\"relu\")(input)\n",
    "x = Dense(units=hidden_units, activation=\"relu\")(x)\n",
    "\n",
    "q_value = Dense(units=1)(x)\n",
    "\n",
    "q_network = Model(inputs=[state_input, action_input], outputs=[q_value])"
   ]
  },
  {
   "cell_type": "markdown",
   "metadata": {},
   "source": [
    "### Train REDQ Agent"
   ]
  },
  {
   "cell_type": "code",
   "execution_count": null,
   "metadata": {},
   "outputs": [],
   "source": [
    "env = gym.make(\"Ant-v4\", max_episode_steps=1000, healthy_z_range=(0.3, 0.9))\n",
    "\n",
    "sac_agent = AgentREDQ(policy_network, q_network, env)\n",
    "\n",
    "sac_agent.train(epochs=10, num_q_evals=3)"
   ]
  },
  {
   "cell_type": "code",
   "execution_count": null,
   "metadata": {},
   "outputs": [],
   "source": [
    "import tensorflow as tf\n",
    "\n",
    "q_indices = tf.random.categorical(tf.ones(shape=(2, 10), dtype=tf.float32), num_samples=2)\n",
    "print(q_indices)"
   ]
  }
 ],
 "metadata": {
  "kernelspec": {
   "display_name": "tf",
   "language": "python",
   "name": "python3"
  },
  "language_info": {
   "codemirror_mode": {
    "name": "ipython",
    "version": 3
   },
   "file_extension": ".py",
   "mimetype": "text/x-python",
   "name": "python",
   "nbconvert_exporter": "python",
   "pygments_lexer": "ipython3",
   "version": "3.9.17"
  },
  "orig_nbformat": 4
 },
 "nbformat": 4,
 "nbformat_minor": 2
}
